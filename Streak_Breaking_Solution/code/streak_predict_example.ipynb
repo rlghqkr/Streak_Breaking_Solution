{
 "cells": [
  {
   "cell_type": "code",
   "execution_count": null,
   "metadata": {},
   "outputs": [
    {
     "name": "stdout",
     "output_type": "stream",
     "text": [
      "연패 확률: 0.321\n",
      "예측 결과: 연패\n"
     ]
    }
   ],
   "source": [
    "import joblib\n",
    "import pandas as pd\n",
    "# 08-14(롯데-6연패 _12연패 중심)\n",
    "# 1) 저장된 모델 불러오기\n",
    "model = joblib.load(\"logistic_streak_model.pkl\")\n",
    "\n",
    "# 2) 새로운 경기 데이터 입력\n",
    "new_game = pd.DataFrame([{\n",
    "    \"ISO\": 0.042,\n",
    "    \"DER\": 0.875,\n",
    "    \"KBB\": 4.00,\n",
    "    \"OBP\": 0.333,\n",
    "    \"OPS\": 0.708,\n",
    "    \"exp_minus_actual\": -0.666\n",
    "}])\n",
    "\n",
    "# 3) 확률 예측\n",
    "prob = model.predict_proba(new_game)[:, 1][0]\n",
    "\n",
    "# 4) threshold 적용 \n",
    "pred = (prob >= 0.3).astype(int)\n",
    "\n",
    "print(\"연패 확률:\", round(prob, 3))\n",
    "print(\"예측 결과:\", \"연패\" if pred==1 else \"비연패\")\n"
   ]
  },
  {
   "cell_type": "code",
   "execution_count": null,
   "metadata": {},
   "outputs": [
    {
     "name": "stdout",
     "output_type": "stream",
     "text": [
      "연패 확률: 0.082\n",
      "예측 결과: 비연패\n"
     ]
    }
   ],
   "source": [
    "import joblib\n",
    "import pandas as pd\n",
    "\n",
    "# 08-24 (롯데 연패 탈출 시점)\n",
    "# 1) 저장된 모델 불러오기\n",
    "model = joblib.load(\"logistic_streak_model.pkl\")\n",
    "\n",
    "# 2) 새로운 경기 데이터 입력\n",
    "new_game = pd.DataFrame([{\n",
    "    \"ISO\": 0.299,\n",
    "    \"DER\": 0.833,\n",
    "    \"KBB\": 1.375,\n",
    "    \"OBP\": 0.472,\n",
    "    \"OPS\": 1.123,\n",
    "    \"exp_minus_actual\": -4.059\n",
    "}])\n",
    "\n",
    "# 3) 확률 예측\n",
    "prob = model.predict_proba(new_game)[:, 1][0]\n",
    "\n",
    "# 4) threshold 적용 \n",
    "pred = (prob >= 0.3).astype(int)\n",
    "\n",
    "print(\"연패 확률:\", round(prob, 3))\n",
    "print(\"예측 결과:\", \"연패\" if pred==1 else \"비연패\")\n"
   ]
  }
 ],
 "metadata": {
  "kernelspec": {
   "display_name": "asac",
   "language": "python",
   "name": "python3"
  },
  "language_info": {
   "codemirror_mode": {
    "name": "ipython",
    "version": 3
   },
   "file_extension": ".py",
   "mimetype": "text/x-python",
   "name": "python",
   "nbconvert_exporter": "python",
   "pygments_lexer": "ipython3",
   "version": "3.10.18"
  }
 },
 "nbformat": 4,
 "nbformat_minor": 2
}
